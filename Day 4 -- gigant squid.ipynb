{
 "cells": [
  {
   "cell_type": "markdown",
   "metadata": {},
   "source": [
    "You're already almost 1.5km (almost a mile) below the surface of the ocean, already so deep that you can't see any sunlight. What you can see, however, is a giant squid that has attached itself to the outside of your submarine.\n",
    "\n",
    "Maybe it wants to play bingo?\n",
    "\n",
    "Bingo is played on a set of boards each consisting of a 5x5 grid of numbers. Numbers are chosen at random, and the chosen number is marked on all boards on which it appears. (Numbers may not appear on all boards.) If all numbers in any row or any column of a board are marked, that board wins. (Diagonals don't count.)\n",
    "\n",
    "The submarine has a bingo subsystem to help passengers (currently, you and the giant squid) pass the time. It automatically generates a random order in which to draw numbers and a random set of boards (your puzzle input). For example:\n",
    "\n",
    "```\n",
    "7,4,9,5,11,17,23,2,0,14,21,24,10,16,13,6,15,25,12,22,18,20,8,19,3,26,1\n",
    "\n",
    "22 13 17 11  0\n",
    " 8  2 23  4 24\n",
    "21  9 14 16  7\n",
    " 6 10  3 18  5\n",
    " 1 12 20 15 19\n",
    "\n",
    " 3 15  0  2 22\n",
    " 9 18 13 17  5\n",
    "19  8  7 25 23\n",
    "20 11 10 24  4\n",
    "14 21 16 12  6\n",
    "\n",
    "14 21 17 24  4\n",
    "10 16 15  9 19\n",
    "18  8 23 26 20\n",
    "22 11 13  6  5\n",
    " 2  0 12  3  7\n",
    "```\n",
    "\n",
    "After the first five numbers are drawn (7, 4, 9, 5, and 11), there are no winners, but the boards are marked as follows (shown here adjacent to each other to save space):\n",
    "\n",
    "```\n",
    "22 13 17 11  0         3 15  0  2 22        14 21 17 24  4\n",
    " 8  2 23  4 24         9 18 13 17  5        10 16 15  9 19\n",
    "21  9 14 16  7        19  8  7 25 23        18  8 23 26 20\n",
    " 6 10  3 18  5        20 11 10 24  4        22 11 13  6  5\n",
    " 1 12 20 15 19        14 21 16 12  6         2  0 12  3  7\n",
    "```\n",
    "\n",
    "After the next six numbers are drawn (17, 23, 2, 0, 14, and 21), there are still no winners:\n",
    "\n",
    "```\n",
    "22 13 17 11  0         3 15  0  2 22        14 21 17 24  4\n",
    " 8  2 23  4 24         9 18 13 17  5        10 16 15  9 19\n",
    "21  9 14 16  7        19  8  7 25 23        18  8 23 26 20\n",
    " 6 10  3 18  5        20 11 10 24  4        22 11 13  6  5\n",
    " 1 12 20 15 19        14 21 16 12  6         2  0 12  3  7\n",
    "```\n",
    "\n",
    "Finally, 24 is drawn:\n",
    "\n",
    "```\n",
    "22 13 17 11  0         3 15  0  2 22        14 21 17 24  4\n",
    " 8  2 23  4 24         9 18 13 17  5        10 16 15  9 19\n",
    "21  9 14 16  7        19  8  7 25 23        18  8 23 26 20\n",
    " 6 10  3 18  5        20 11 10 24  4        22 11 13  6  5\n",
    " 1 12 20 15 19        14 21 16 12  6         2  0 12  3  7\n",
    "```\n",
    "\n",
    "\n",
    "At this point, the third board wins because it has at least one complete row or column of marked numbers (in this case, the entire top row is marked: 14 21 17 24 4).\n",
    "\n",
    "The score of the winning board can now be calculated. Start by finding the sum of all unmarked numbers on that board; in this case, the sum is 188. Then, multiply that sum by the number that was just called when the board won, 24, to get the final score, 188 * 24 = 4512.\n",
    "\n",
    "To guarantee victory against the giant squid, figure out which board will win first. What will your final score be if you choose that board?"
   ]
  },
  {
   "cell_type": "code",
   "execution_count": 6,
   "metadata": {},
   "outputs": [],
   "source": [
    "import numpy as np\n",
    "from io import BytesIO"
   ]
  },
  {
   "cell_type": "code",
   "execution_count": 78,
   "metadata": {},
   "outputs": [],
   "source": [
    "with open('data/input problem 4') as f:\n",
    "    numbers, *boards = f.read().split('\\n\\n')\n",
    "\n",
    "    numbers = np.genfromtxt(BytesIO(numbers.encode()), delimiter=',', dtype=int)\n",
    "    boards = [np.genfromtxt(BytesIO(b.encode()), dtype=int) for b in boards]\n",
    "    assert all([len(set(b.shape)) == 1 for b in boards])"
   ]
  },
  {
   "cell_type": "code",
   "execution_count": 62,
   "metadata": {},
   "outputs": [
    {
     "name": "stdout",
     "output_type": "stream",
     "text": [
      "Drawing 1 numbers:\n",
      "Drawing 2 numbers:\n",
      "Drawing 3 numbers:\n",
      "Drawing 4 numbers:\n",
      "Drawing 5 numbers:\n",
      "Drawing 6 numbers:\n",
      "Drawing 7 numbers:\n",
      "Drawing 8 numbers:\n",
      "Drawing 9 numbers:\n",
      "Drawing 10 numbers:\n",
      "Drawing 11 numbers:\n",
      "Drawing 12 numbers:\n",
      " -- The winner is --\n",
      "[[14 21 17 24  4]\n",
      " [10 16 15  9 19]\n",
      " [18  8 23 26 20]\n",
      " [22 11 13  6  5]\n",
      " [ 2  0 12  3  7]]\n",
      "Last number called: 24\n"
     ]
    }
   ],
   "source": [
    "def bingo(board, values):\n",
    "    for i in range(board.shape[0]):\n",
    "        if np.in1d(board[i, :], values).all():\n",
    "            return True\n",
    "\n",
    "    for j in range(board.shape[1]):\n",
    "        if np.in1d(board[:, j], values).all():\n",
    "            return True\n",
    "\n",
    "    return False\n",
    "\n",
    "winner = None\n",
    "for draws in range(1, numbers.shape[0]+1):\n",
    "    print(f'Drawing {draws} numbers:')\n",
    "\n",
    "    for board in boards:\n",
    "        if bingo(board, numbers[:draws]):\n",
    "            print(' -- The winner is --')\n",
    "            print(board)\n",
    "            winner = board\n",
    "            break\n",
    "\n",
    "    if winner is not None:\n",
    "        break\n",
    "\n",
    "print(f'Last number called: {numbers[draws-1]}')"
   ]
  },
  {
   "cell_type": "code",
   "execution_count": 53,
   "metadata": {},
   "outputs": [
    {
     "name": "stdout",
     "output_type": "stream",
     "text": [
      "Sum of unmarked is: 914, last number is: 14 --> 12796\n"
     ]
    }
   ],
   "source": [
    "unmarked = sum([val for val in winner.flatten() if val not in numbers[:draws]])\n",
    "print(f'Sum of unmarked is: {unmarked}, last number is: {numbers[draws-1]} --> {unmarked * numbers[draws-1]}')"
   ]
  },
  {
   "cell_type": "markdown",
   "metadata": {},
   "source": [
    "On the other hand, it might be wise to try a different strategy: let the giant squid win.\n",
    "\n",
    "You aren't sure how many bingo boards a giant squid could play at once, so rather than waste time counting its arms, the safe thing to do is to figure out which board will win last and choose that one. That way, no matter which boards it picks, it will win for sure.\n",
    "\n",
    "In the above example, the second board is the last to win, which happens after 13 is eventually called and its middle column is completely marked. If you were to keep playing until this point, the second board would have a sum of unmarked numbers equal to 148 for a final score of 148 * 13 = 1924.\n",
    "\n",
    "Figure out which board will win last. Once it wins, what would its final score be?\n",
    "\n"
   ]
  },
  {
   "cell_type": "code",
   "execution_count": 79,
   "metadata": {},
   "outputs": [
    {
     "name": "stdout",
     "output_type": "stream",
     "text": [
      "[[ 6 73 93 67 18]\n",
      " [29 33 94 24 34]\n",
      " [57 96 27 37 60]\n",
      " [92 88 81 12 16]\n",
      " [49 98 30 10 72]]\n"
     ]
    }
   ],
   "source": [
    "winners = []\n",
    "\n",
    "for draws in range(1, numbers.shape[0]+1):\n",
    "    for i, board in enumerate(boards):\n",
    "        if i in [j for j, _, _ in winners]: continue\n",
    "\n",
    "        if bingo(board, numbers[:draws]):\n",
    "            winners.append((i, draws, board))\n",
    "\n",
    "\n",
    "_, draws, winner = winners[-1]\n",
    "print(winner)"
   ]
  },
  {
   "cell_type": "code",
   "execution_count": 80,
   "metadata": {},
   "outputs": [
    {
     "name": "stdout",
     "output_type": "stream",
     "text": [
      "Sum of unmarked is: 223, last number is: 81 --> 18063\n"
     ]
    }
   ],
   "source": [
    "unmarked = sum([val for val in winner.flatten() if val not in numbers[:draws]])\n",
    "print(f'Sum of unmarked is: {unmarked}, last number is: {numbers[draws-1]} --> {unmarked * numbers[draws-1]}')"
   ]
  }
 ],
 "metadata": {
  "interpreter": {
   "hash": "683d993d30d6182b2adc4d17537cb90ce0acfe92bd045384c985684dd7ba20ea"
  },
  "kernelspec": {
   "display_name": "Python 3.10.0 64-bit ('aoc_venv': venv)",
   "language": "python",
   "name": "python3"
  },
  "language_info": {
   "codemirror_mode": {
    "name": "ipython",
    "version": 3
   },
   "file_extension": ".py",
   "mimetype": "text/x-python",
   "name": "python",
   "nbconvert_exporter": "python",
   "pygments_lexer": "ipython3",
   "version": "3.10.0"
  },
  "orig_nbformat": 4
 },
 "nbformat": 4,
 "nbformat_minor": 2
}
